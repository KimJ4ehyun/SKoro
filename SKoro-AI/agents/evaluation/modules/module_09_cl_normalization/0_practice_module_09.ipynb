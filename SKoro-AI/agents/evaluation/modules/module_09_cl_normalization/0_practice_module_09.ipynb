{
 "cells": [],
 "metadata": {
  "kernelspec": {
   "display_name": "langchain-kr-WTM_qa1c-py3.11",
   "language": "python",
   "name": "python3"
  },
  "language_info": {
   "name": "python",
   "version": "3.11.11"
  }
 },
 "nbformat": 4,
 "nbformat_minor": 5
}
